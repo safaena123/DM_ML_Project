{
  "nbformat": 4,
  "nbformat_minor": 0,
  "metadata": {
    "colab": {
      "name": "SVMclassifiear.ipynb",
      "provenance": []
    },
    "kernelspec": {
      "name": "python3",
      "display_name": "Python 3"
    },
    "language_info": {
      "name": "python"
    }
  },
  "cells": [
    {
      "cell_type": "code",
      "metadata": {
        "id": "eqQagQVtCtLp"
      },
      "source": [
        "# Importing the libraries\n",
        "import numpy as np\n",
        "import pandas as pd\n",
        "from sklearn.svm import SVC\n",
        "from sklearn.model_selection import train_test_split\n",
        "from sklearn.metrics import confusion_matrix\n",
        "from sklearn.metrics import classification_report"
      ],
      "execution_count": 5,
      "outputs": []
    },
    {
      "cell_type": "code",
      "metadata": {
        "id": "RfORLtjFSbtw"
      },
      "source": [
        "# Importing the dataset\n",
        "df = pd.read_csv('hotel_data.csv')"
      ],
      "execution_count": 6,
      "outputs": []
    },
    {
      "cell_type": "code",
      "metadata": {
        "id": "gA2omqIeSfeC"
      },
      "source": [
        "#Building model and Splitting the dataset into the Training set and Test set\n",
        "\n",
        "X = df.loc[:, df.columns != 'is_canceled']\n",
        "y = df['is_canceled']\n",
        "X_train, X_test, y_train, y_test = train_test_split(X, y, test_size = 0.2, random_state = 0)"
      ],
      "execution_count": 7,
      "outputs": []
    },
    {
      "cell_type": "code",
      "metadata": {
        "colab": {
          "base_uri": "https://localhost:8080/"
        },
        "id": "PWSNgo2oSkbL",
        "outputId": "98bebc1a-ed75-48e5-b2a2-fd9e778bf054"
      },
      "source": [
        "# Fitting Multiple Linear Regression to the Training set\n",
        "model = SVC()\n",
        "model.fit(X_train, y_train)"
      ],
      "execution_count": 8,
      "outputs": [
        {
          "output_type": "execute_result",
          "data": {
            "text/plain": [
              "SVC(C=1.0, break_ties=False, cache_size=200, class_weight=None, coef0=0.0,\n",
              "    decision_function_shape='ovr', degree=3, gamma='scale', kernel='rbf',\n",
              "    max_iter=-1, probability=False, random_state=None, shrinking=True,\n",
              "    tol=0.001, verbose=False)"
            ]
          },
          "metadata": {
            "tags": []
          },
          "execution_count": 8
        }
      ]
    },
    {
      "cell_type": "code",
      "metadata": {
        "id": "dtBkBbWDaBfB"
      },
      "source": [
        "# Predicting the Test set results\n",
        "y_pred = model.predict(X_test)"
      ],
      "execution_count": 10,
      "outputs": []
    },
    {
      "cell_type": "code",
      "metadata": {
        "colab": {
          "base_uri": "https://localhost:8080/"
        },
        "id": "KQ1Wahg9aqbk",
        "outputId": "ff13637a-cbff-47f7-c20f-cad6c813d3a1"
      },
      "source": [
        "confusion_matrix(y_test,y_pred)"
      ],
      "execution_count": 11,
      "outputs": [
        {
          "output_type": "execute_result",
          "data": {
            "text/plain": [
              "array([[15076,  1558],\n",
              "       [ 1530,  7642]])"
            ]
          },
          "metadata": {
            "tags": []
          },
          "execution_count": 11
        }
      ]
    },
    {
      "cell_type": "code",
      "metadata": {
        "colab": {
          "base_uri": "https://localhost:8080/"
        },
        "id": "9OlNGh81av-o",
        "outputId": "c29bd133-9d54-46f7-e1ff-861ee35770ff"
      },
      "source": [
        "print(classification_report(y_test, y_pred))"
      ],
      "execution_count": 12,
      "outputs": [
        {
          "output_type": "stream",
          "text": [
            "              precision    recall  f1-score   support\n",
            "\n",
            "           0       0.91      0.91      0.91     16634\n",
            "           1       0.83      0.83      0.83      9172\n",
            "\n",
            "    accuracy                           0.88     25806\n",
            "   macro avg       0.87      0.87      0.87     25806\n",
            "weighted avg       0.88      0.88      0.88     25806\n",
            "\n"
          ],
          "name": "stdout"
        }
      ]
    }
  ]
}